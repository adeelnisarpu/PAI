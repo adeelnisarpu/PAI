{
 "cells": [
  {
   "cell_type": "markdown",
   "id": "bb485ee8",
   "metadata": {},
   "source": [
    "## Neural Network"
   ]
  },
  {
   "cell_type": "code",
   "execution_count": 1,
   "id": "24e2d32d",
   "metadata": {},
   "outputs": [],
   "source": [
    "import torch\n",
    "import torch.nn as nn\n",
    "from torchviz import make_dot, make_dot_from_trace"
   ]
  },
  {
   "cell_type": "code",
   "execution_count": 2,
   "id": "53d70a80",
   "metadata": {},
   "outputs": [
    {
     "name": "stdout",
     "output_type": "stream",
     "text": [
      "Linear(in_features=10, out_features=2, bias=True)\n"
     ]
    }
   ],
   "source": [
    "# creating a linear layer\n",
    "fc = nn.Linear(10,2)\n",
    "print(fc)"
   ]
  },
  {
   "cell_type": "code",
   "execution_count": 3,
   "id": "e4d99460",
   "metadata": {},
   "outputs": [
    {
     "name": "stdout",
     "output_type": "stream",
     "text": [
      "tensor([[ 0.8222, -1.2160,  1.0806,  1.0623,  1.0681,  0.7773,  0.8428, -0.5415,\n",
      "         -0.1704, -1.5846],\n",
      "        [-0.1070, -0.6044, -0.0212,  1.3340,  1.6091,  0.8053,  0.7550,  0.9276,\n",
      "          0.8516,  0.8873],\n",
      "        [ 1.5932,  0.1221,  2.1838,  0.8292,  1.5914, -0.4277, -0.9490,  0.7399,\n",
      "          1.2625,  0.0245]])\n",
      "torch.Size([3, 10])\n"
     ]
    }
   ],
   "source": [
    "inp = torch.randn(3,10)\n",
    "print(inp)\n",
    "print(inp.shape)"
   ]
  },
  {
   "cell_type": "code",
   "execution_count": 4,
   "id": "adad8af7",
   "metadata": {},
   "outputs": [],
   "source": [
    "outp = fc(inp)"
   ]
  },
  {
   "cell_type": "code",
   "execution_count": 5,
   "id": "4d4eca2b",
   "metadata": {},
   "outputs": [
    {
     "name": "stdout",
     "output_type": "stream",
     "text": [
      "tensor([[ 0.5288,  0.5150],\n",
      "        [ 0.3385,  0.0246],\n",
      "        [-1.0714,  1.3634]], grad_fn=<AddmmBackward>)\n",
      "<AddmmBackward object at 0x000001F5E8EEED00>\n"
     ]
    }
   ],
   "source": [
    "print(outp)\n",
    "print(outp.grad_fn)"
   ]
  },
  {
   "cell_type": "code",
   "execution_count": 6,
   "id": "3c7d990d",
   "metadata": {},
   "outputs": [
    {
     "name": "stdout",
     "output_type": "stream",
     "text": [
      "tensor([[0.5288, 0.5150],\n",
      "        [0.3385, 0.0246],\n",
      "        [0.0000, 1.3634]], grad_fn=<ReluBackward0>)\n"
     ]
    }
   ],
   "source": [
    "#activation function: takes any real number and outputs a number in a certain range. The function is non-linear differentiable.\n",
    "relu = nn.ReLU()\n",
    "relu_outp = relu(outp)\n",
    "print(relu_outp)"
   ]
  },
  {
   "cell_type": "code",
   "execution_count": 7,
   "id": "e9fd6c8d",
   "metadata": {},
   "outputs": [
    {
     "name": "stdout",
     "output_type": "stream",
     "text": [
      "tensor([[0.6292, 0.6260],\n",
      "        [0.5838, 0.5061],\n",
      "        [0.2551, 0.7963]], grad_fn=<SigmoidBackward>)\n"
     ]
    }
   ],
   "source": [
    "sig = nn.Sigmoid()\n",
    "sig_outp = sig(outp)\n",
    "print(sig_outp)"
   ]
  },
  {
   "cell_type": "code",
   "execution_count": 31,
   "id": "f451d383",
   "metadata": {},
   "outputs": [],
   "source": [
    "# mlp = nn.Sequential( (\"W0\", nn.Linear(10,2)), (\"relu\", nn.ReLU()))\n",
    "mlp = nn.Sequential()\n",
    "mlp.add_module(\"W0\", nn.Linear(10,2))\n",
    "mlp.add_module(\"relu\", nn.ReLU())"
   ]
  },
  {
   "cell_type": "code",
   "execution_count": 32,
   "id": "204695b3",
   "metadata": {},
   "outputs": [
    {
     "name": "stdout",
     "output_type": "stream",
     "text": [
      "Sequential(\n",
      "  (W0): Linear(in_features=10, out_features=2, bias=True)\n",
      "  (relu): ReLU()\n",
      ")\n"
     ]
    }
   ],
   "source": [
    "print(mlp)"
   ]
  },
  {
   "cell_type": "code",
   "execution_count": 33,
   "id": "d0adb5e9",
   "metadata": {},
   "outputs": [
    {
     "data": {
      "text/plain": [
       "tensor([[0.5275, 0.0000],\n",
       "        [0.0000, 0.1020],\n",
       "        [0.3626, 0.3920]], grad_fn=<ReluBackward0>)"
      ]
     },
     "execution_count": 33,
     "metadata": {},
     "output_type": "execute_result"
    }
   ],
   "source": [
    "#make_dot(mlp(inp), params=dict(mlp.named_parameters()))\n",
    "mlp(inp) #forward pass"
   ]
  },
  {
   "cell_type": "code",
   "execution_count": 34,
   "id": "1d059382",
   "metadata": {},
   "outputs": [],
   "source": [
    "##optimizers: {SGD, Adam,}\n",
    "import torch.optim as optim\n",
    "adam_opt = optim.Adam(mlp.parameters(), lr=1e-1)"
   ]
  },
  {
   "cell_type": "code",
   "execution_count": 35,
   "id": "8d6db1ae",
   "metadata": {},
   "outputs": [
    {
     "name": "stdout",
     "output_type": "stream",
     "text": [
      "Adam (\n",
      "Parameter Group 0\n",
      "    amsgrad: False\n",
      "    betas: (0.9, 0.999)\n",
      "    eps: 1e-08\n",
      "    lr: 0.1\n",
      "    weight_decay: 0\n",
      ")\n"
     ]
    }
   ],
   "source": [
    "print(adam_opt)"
   ]
  },
  {
   "cell_type": "code",
   "execution_count": 36,
   "id": "d31a0e0a",
   "metadata": {},
   "outputs": [],
   "source": [
    "## training loop\n",
    "# train_ex = torch.randn(100,10) + 1\n",
    "# print(train_ex)"
   ]
  },
  {
   "cell_type": "code",
   "execution_count": 37,
   "id": "d86e9601",
   "metadata": {},
   "outputs": [],
   "source": [
    "adam_opt.zero_grad()"
   ]
  },
  {
   "cell_type": "code",
   "execution_count": 38,
   "id": "a4bec8c7",
   "metadata": {},
   "outputs": [],
   "source": [
    "outpp = mlp(inp)"
   ]
  },
  {
   "cell_type": "code",
   "execution_count": 39,
   "id": "0e696723",
   "metadata": {},
   "outputs": [],
   "source": [
    "loss = torch.abs(1-outpp).mean()"
   ]
  },
  {
   "cell_type": "code",
   "execution_count": 40,
   "id": "985a5f03",
   "metadata": {},
   "outputs": [],
   "source": [
    "loss.backward()"
   ]
  },
  {
   "cell_type": "code",
   "execution_count": 41,
   "id": "4c1b293a",
   "metadata": {},
   "outputs": [],
   "source": [
    "p = mlp.parameters()"
   ]
  },
  {
   "cell_type": "code",
   "execution_count": 42,
   "id": "a9da87ab",
   "metadata": {},
   "outputs": [
    {
     "data": {
      "text/plain": [
       "OrderedDict([('W0.weight',\n",
       "              tensor([[-0.2551,  0.1458,  0.2463,  0.1426,  0.2499,  0.1214, -0.2068, -0.2181,\n",
       "                       -0.1807, -0.1357],\n",
       "                      [-0.0268,  0.2871, -0.1330,  0.2699, -0.0475, -0.2209, -0.2293,  0.1705,\n",
       "                        0.1033,  0.1367]])),\n",
       "             ('W0.bias', tensor([-0.0540, -0.0303]))])"
      ]
     },
     "execution_count": 42,
     "metadata": {},
     "output_type": "execute_result"
    }
   ],
   "source": [
    "mlp.state_dict()"
   ]
  },
  {
   "cell_type": "code",
   "execution_count": 43,
   "id": "d28510da",
   "metadata": {},
   "outputs": [],
   "source": [
    "adam_opt.step()"
   ]
  },
  {
   "cell_type": "code",
   "execution_count": 44,
   "id": "64ee9b07",
   "metadata": {},
   "outputs": [
    {
     "name": "stdout",
     "output_type": "stream",
     "text": [
      "tensor(0.7693, grad_fn=<MeanBackward0>)\n"
     ]
    }
   ],
   "source": [
    "print(loss)"
   ]
  },
  {
   "cell_type": "code",
   "execution_count": 45,
   "id": "52b42602",
   "metadata": {},
   "outputs": [],
   "source": [
    "total_params = sum(param.numel() for param in mlp.parameters())"
   ]
  },
  {
   "cell_type": "code",
   "execution_count": 46,
   "id": "efaddbe9",
   "metadata": {},
   "outputs": [
    {
     "name": "stdout",
     "output_type": "stream",
     "text": [
      "22\n"
     ]
    }
   ],
   "source": [
    "print(total_params)"
   ]
  },
  {
   "cell_type": "code",
   "execution_count": 47,
   "id": "b4326284",
   "metadata": {},
   "outputs": [
    {
     "name": "stdout",
     "output_type": "stream",
     "text": [
      "W0.weight\n",
      "W0.bias\n"
     ]
    }
   ],
   "source": [
    "for name,param in mlp.named_parameters():\n",
    "    print(name)\n",
    "#print(param.numel() for param in mlp.parameters())"
   ]
  },
  {
   "cell_type": "code",
   "execution_count": 51,
   "id": "125a3b3d",
   "metadata": {},
   "outputs": [
    {
     "data": {
      "text/plain": [
       "tensor([[-0.4026,  0.1823, -0.5441, -0.3153, -0.4433, -0.0583,  0.0177, -0.0331,\n",
       "         -0.1820,  0.2600],\n",
       "        [-0.2477,  0.0804, -0.3604, -0.3605, -0.5334, -0.0629,  0.0323, -0.2779,\n",
       "         -0.3523, -0.1520]])"
      ]
     },
     "execution_count": 51,
     "metadata": {},
     "output_type": "execute_result"
    }
   ],
   "source": [
    "mlp.W0.weight.grad"
   ]
  },
  {
   "cell_type": "code",
   "execution_count": 52,
   "id": "1c36fe7a",
   "metadata": {},
   "outputs": [
    {
     "data": {
      "text/plain": [
       "Parameter containing:\n",
       "tensor([[-0.1551,  0.0458,  0.3463,  0.2426,  0.3499,  0.2214, -0.3068, -0.1181,\n",
       "         -0.0807, -0.2357],\n",
       "        [ 0.0732,  0.1871, -0.0330,  0.3699,  0.0525, -0.1209, -0.3293,  0.2705,\n",
       "          0.2033,  0.2367]], requires_grad=True)"
      ]
     },
     "execution_count": 52,
     "metadata": {},
     "output_type": "execute_result"
    }
   ],
   "source": [
    "mlp.W0.weight"
   ]
  },
  {
   "cell_type": "code",
   "execution_count": 53,
   "id": "ff7dcd2f",
   "metadata": {},
   "outputs": [
    {
     "data": {
      "text/plain": [
       "tensor([[-0.4026,  0.1823, -0.5441, -0.3153, -0.4433, -0.0583,  0.0177, -0.0331,\n",
       "         -0.1820,  0.2600],\n",
       "        [-0.2477,  0.0804, -0.3604, -0.3605, -0.5334, -0.0629,  0.0323, -0.2779,\n",
       "         -0.3523, -0.1520]])"
      ]
     },
     "execution_count": 53,
     "metadata": {},
     "output_type": "execute_result"
    }
   ],
   "source": [
    "mlp.W0.weight.grad"
   ]
  },
  {
   "cell_type": "code",
   "execution_count": 54,
   "id": "5511cede",
   "metadata": {},
   "outputs": [],
   "source": [
    "mlp.zero_grad()"
   ]
  },
  {
   "cell_type": "code",
   "execution_count": 55,
   "id": "eb5c346f",
   "metadata": {},
   "outputs": [
    {
     "data": {
      "text/plain": [
       "Parameter containing:\n",
       "tensor([[-0.1551,  0.0458,  0.3463,  0.2426,  0.3499,  0.2214, -0.3068, -0.1181,\n",
       "         -0.0807, -0.2357],\n",
       "        [ 0.0732,  0.1871, -0.0330,  0.3699,  0.0525, -0.1209, -0.3293,  0.2705,\n",
       "          0.2033,  0.2367]], requires_grad=True)"
      ]
     },
     "execution_count": 55,
     "metadata": {},
     "output_type": "execute_result"
    }
   ],
   "source": [
    "mlp.W0.weight"
   ]
  },
  {
   "cell_type": "code",
   "execution_count": 56,
   "id": "4ec5efe6",
   "metadata": {},
   "outputs": [
    {
     "data": {
      "text/plain": [
       "tensor([[0., 0., 0., 0., 0., 0., 0., 0., 0., 0.],\n",
       "        [0., 0., 0., 0., 0., 0., 0., 0., 0., 0.]])"
      ]
     },
     "execution_count": 56,
     "metadata": {},
     "output_type": "execute_result"
    }
   ],
   "source": [
    "mlp.W0.weight.grad"
   ]
  },
  {
   "cell_type": "code",
   "execution_count": null,
   "id": "9ca6d534",
   "metadata": {},
   "outputs": [],
   "source": []
  }
 ],
 "metadata": {
  "kernelspec": {
   "display_name": "Python 3 (ipykernel)",
   "language": "python",
   "name": "python3"
  },
  "language_info": {
   "codemirror_mode": {
    "name": "ipython",
    "version": 3
   },
   "file_extension": ".py",
   "mimetype": "text/x-python",
   "name": "python",
   "nbconvert_exporter": "python",
   "pygments_lexer": "ipython3",
   "version": "3.9.4"
  }
 },
 "nbformat": 4,
 "nbformat_minor": 5
}
